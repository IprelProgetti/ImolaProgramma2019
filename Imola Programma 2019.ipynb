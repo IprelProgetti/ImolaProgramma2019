{
 "cells": [
  {
   "cell_type": "markdown",
   "metadata": {},
   "source": [
    "# Imola Programma 2019\n",
    "\n",
    "## E se Babbo Natale esistesse, e fosse un chatbot?\n",
    "\n",
    "* **Speaker:** Gabriele Corni [ gabriele_corni@iprel.it ]\n",
    "* **Azienda:** IPREL Progetti S.r.l\n",
    "* **Data:** 29 marzo 2019\n",
    "* **GitHub repository:** https://github.com/horns-g/ImolaProgramma2019.git\n"
   ]
  },
  {
   "cell_type": "markdown",
   "metadata": {},
   "source": [
    "### <u>Indice</u>\n",
    "\n",
    "#### <i>Teoria: applicazioni industriali dei chatbots</i>\n",
    "\n",
    "[0) Chatbots: chi, come, dove, quando, perche](#intro)\n",
    "\n",
    "#### <i>Pratica: costruiamo (e proviamo) un chatbot Telegram in 5 minuti</i>\n",
    "\n",
    "[1) Configurare il file di log](#log)\n",
    "\n",
    "[2) Definire il comportamento del chatbot](#comportamento)\n",
    "\n",
    "[3) Creare il chatbot su Telegram](#creazione)\n",
    "\n",
    "[4) Collegare il chatbot via token](#collegamento)\n",
    "\n",
    "[5) Effettuare i bindings](#binding)\n",
    "\n",
    "[6) Proviamolo insieme!](#test)\n"
   ]
  },
  {
   "cell_type": "markdown",
   "metadata": {},
   "source": [
    "### Teoria: applicazioni industriali dei chatbots"
   ]
  },
  {
   "cell_type": "markdown",
   "metadata": {},
   "source": [
    "#### 0) Chatbots: chi, come, dove, quando, perche<a name=\"intro\"></a>"
   ]
  },
  {
   "cell_type": "markdown",
   "metadata": {},
   "source": [
    "##### Chi\n",
    "\n",
    "Che cos'è un chatbot, intro sui chatbots\n",
    "\n",
    "##### Come\n",
    "\n",
    "steps per la loro creazione: quelli che seguiremo dopo insieme (definire lo scopo, creare le funzioni, associarle, eseguire)\n",
    "\n",
    "##### Dove\n",
    "\n",
    "On premises - su cloud (Google DialogFlow, Amazon Lex). in generale su internet (richiedono connessione)\n",
    "\n",
    "##### Quando\n",
    "\n",
    "24/7 - un chatbot deve rimanere in esecuzione continua per essere sempre pronto a raggiungere i propri clienti (analogia con server web).\n",
    "\n",
    "##### Perchè\n",
    "\n",
    "Maggiore accessibilità, modo \"smart\" per coinvolgere gli utenti, possibile fare analisi di utilizzo (log), possibile connettere diverse piattaforme anche automaticamente, ... QUI LE APPLICAZIONI INDUSTRIALI\n"
   ]
  },
  {
   "cell_type": "markdown",
   "metadata": {},
   "source": [
    "### Pratica: costruiamo (e proviamo) un chatbot Telegram in 5 minuti"
   ]
  },
  {
   "cell_type": "markdown",
   "metadata": {},
   "source": [
    "#### 1) Configurare il file di log<a name=\"log\"></a>"
   ]
  },
  {
   "cell_type": "markdown",
   "metadata": {},
   "source": [
    "Abbiamo paragonato un chatbot ad un server web. Ebbene, così come accade per gli accessi ad un sito internet, è parimenti importante loggare gli accessi e le richieste al chatbot.\n",
    "\n",
    "Questo si rivelerà utile per rilevare malfunzionamenti, monitorare il traffico e soprattutto per analizzare le abitudini di utilizzo degli utenti:\n",
    "\n",
    "* quali funzioni sono più richieste? \n",
    "* quali non vengono quasi mai invocate? \n",
    "* cosa potrebbe aumentare il valore percepito dagli utenti sulla base del loro utilizzo?\n",
    "* ..."
   ]
  },
  {
   "cell_type": "code",
   "execution_count": 1,
   "metadata": {},
   "outputs": [],
   "source": [
    "import logging"
   ]
  },
  {
   "cell_type": "code",
   "execution_count": 2,
   "metadata": {},
   "outputs": [],
   "source": [
    "logging.basicConfig(\n",
    "    level=logging.DEBUG,\n",
    "    format='[ %(asctime)s ] - -  %(levelname)s: %(name)s - %(message)s',\n",
    "    datefmt='%Y-%m-%d %H:%M:%S',\n",
    "    filename='chatbot.log',\n",
    "    filemode='w'\n",
    ")\n",
    "console = logging.StreamHandler()\n",
    "console.setLevel(logging.INFO)\n",
    "logging.getLogger('').addHandler(console)"
   ]
  },
  {
   "cell_type": "markdown",
   "metadata": {},
   "source": [
    "#### 2) Definire il comportamento del chatbot<a name=\"comportamento\"></a>"
   ]
  },
  {
   "cell_type": "markdown",
   "metadata": {},
   "source": [
    "Il comportamento dei chatbot può essere definito tramite l'implementazione di semplici funzioni.\n",
    "\n",
    "Nel caso di chatbot Telegram implementato in Python, i parametri di ingresso sono generalmente due (entrambi dizionari/oggetti json):\n",
    "\n",
    "* `bot`: i dettagli del bot che risponde\n",
    "    * bot_id\n",
    "    * bot_username\n",
    "    * bot_first_name\n",
    "* `update`: i dettagli dell'evento che l'utente ha scatenato interagendo col bot\n",
    "    * update_id\n",
    "    * message\n",
    "        * message_id\n",
    "        * date\n",
    "        * chat\n",
    "            * id\n",
    "            * type\n",
    "            * username\n",
    "            * first_name\n",
    "            * last_name\n",
    "        * from\n",
    "            * id\n",
    "            * username\n",
    "            * first_name\n",
    "            * last_name\n",
    "            * is_bot\n",
    "            * language_code\n",
    "        * text\n",
    "        * entities\n",
    "        * caption_entities\n",
    "        * photo\n",
    "        * ...\n",
    "        \n",
    "Ogni metodo può modificare lo stato interno del bot/del suo backend e/o ritornare un messaggio all'utente relativamente all'esito dell'operazione richiesta.\n",
    "\n",
    "In quest'ultimo caso, ci si serve sempre dell'oggetto *update*: `update.message.reply_text()`"
   ]
  },
  {
   "cell_type": "code",
   "execution_count": 3,
   "metadata": {},
   "outputs": [],
   "source": [
    "import random\n",
    "\n",
    "\"\"\"\n",
    "importa e usa qui tutte le tue librerie di NLP più avanzate :)\n",
    "noi ne simuleremo una super semplice, utile a capire il meccanismo di funzionamento\n",
    "\"\"\"\n",
    "modello_linguistico = {\n",
    "    # da ricercare nel testo (modello linguistico \"naive\")\n",
    "    \"interiezioni\"          : [\"ciao\", \"buongiorno\"],\n",
    "    \"parole_chiave_speaker\" : [\"gabriele\", \"corni\", \"speaker\"],\n",
    "    \"parole_chiave_azienda\" : [\"iprel\"],\n",
    "    \n",
    "    # calcolo risposta\n",
    "    \"info_speaker\" : [\"_Gabriele Corni_ è un Ingegnere Informatico laureato all'Università di Bologna.\",\n",
    "                      \"Lavora nel reparto Ricerca&Sviluppo di IPREL Progetti S.r.l.\",\n",
    "                      \"Si occupa di tematiche quali *Machine Learning*, *Data Engineering* e *Cloud*.\"],\n",
    "    \n",
    "    \"info_azienda\" : [\"_IPREL Progetti_ è una società di engineering operante nell'area di controllo del processo in diversi settori produttivi: ceramico, imballaggio, alimentare, chimico e meccanico.\",\n",
    "                      \"L'azienda nasce nel 1995 da una joint venture tra *AEPI Industrie*, azienda leader nello scenario nazionale e mondiale dell'automazione industriale, ed il suo maggiore cliente, *SACMI Imola*.\",\n",
    "                      \"L'azienda è fortemente orientata all'*innovazione tecnologica*, e si adopera per il continuo miglioramento dei processi produttivi, utilizzando le più moderne apparecchiature reperibili sul mercato mondiale.\"],\n",
    "    \n",
    "    \"messaggio_benvenuto\" : \"Benvenuto a Imola Programma 2019\",\n",
    "    \"messaggio_errore\"    : \"Mi dispiace, non ti ho capito.\\nPotresti ripetere per favore?\\nGrazie\",\n",
    "    \"messaggio_aiuto\" : \"Chiedimi pure informazioni in linguaggio naturale, o clicca sul pulsante `/` per usufruire dei comandi preimpostati.\"\n",
    "}\n",
    "\n",
    "\n",
    "def dialogo_con_utente(bot, update):\n",
    "    def invia_saluto(nome):\n",
    "        logging.info('{} ha salutato'.format(\n",
    "            nome\n",
    "        ))\n",
    "        \n",
    "        messaggio_saluto = \"{saluto} {nome}!\\n{msg}\".format(\n",
    "            saluto=random.choice(modello_linguistico[\"interiezioni\"]),\n",
    "            nome=nome,\n",
    "            msg=modello_linguistico[\"messaggio_benvenuto\"]\n",
    "        )\n",
    "        return invia(messaggio_saluto)\n",
    "    \n",
    "    def invia_info_azienda(nome):\n",
    "        logging.info('{} ha chiesto di Iprel'.format(\n",
    "            nome\n",
    "        ))\n",
    "        \n",
    "        messaggio_azienda = \"\\n\\n\".join(modello_linguistico[\"info_azienda\"])\n",
    "        return invia(messaggio_azienda)\n",
    "    \n",
    "    def invia_info_speaker(nome):\n",
    "        logging.info('{} ha chiesto di Gabriele'.format(\n",
    "            nome\n",
    "        ))\n",
    "            \n",
    "        messaggio_speaker = \"\\n\\n\".join(modello_linguistico[\"info_speaker\"])\n",
    "        return invia(messaggio_speaker)\n",
    "    \n",
    "    def invia_errore(nome, testo):\n",
    "        logging.info('{nome} ha chiesto qualcosa che non è stato capito: \"{testo}\"'.format(\n",
    "            nome=nome,\n",
    "            testo=testo\n",
    "        ))\n",
    "            \n",
    "        messaggio_errore = modello_linguistico[\"messaggio_errore\"]\n",
    "        return invia(messaggio_errore)\n",
    "    \n",
    "    def invia(msg):\n",
    "        bot.send_message(\n",
    "            chat_id=update.message.chat_id,\n",
    "            text=msg,\n",
    "            parse_mode=ParseMode.MARKDOWN\n",
    "        )\n",
    "\n",
    "    nome_utente = update.message.chat.first_name\n",
    "    testo_immesso = update.message.text.lower().strip()\n",
    "    \n",
    "    if any([stringa in testo_immesso for stringa in modello_linguistico[\"interiezioni\"]]):\n",
    "        return invia_saluto(nome_utente)\n",
    "    elif any([stringa in testo_immesso for stringa in modello_linguistico[\"parole_chiave_azienda\"]]):\n",
    "        return invia_info_azienda(nome_utente)\n",
    "    elif any([stringa in testo_immesso for stringa in modello_linguistico[\"parole_chiave_speaker\"]]):\n",
    "        return invia_info_speaker(nome_utente)\n",
    "    else:\n",
    "        return invia_errore(nome_utente, testo_immesso)"
   ]
  },
  {
   "cell_type": "code",
   "execution_count": 4,
   "metadata": {},
   "outputs": [],
   "source": [
    "# def command_1(bot, update):\n",
    "#     \"\"\"La funzione che incapsula il primo comportamento\"\"\"\n",
    "#     update.message.reply_text(\"command_1\")\n",
    "#     logging.info('{} {} {}'.format(\"command_1\", bot, update))\n",
    "\n",
    "\n",
    "# def command_2(bot, update):\n",
    "#     \"\"\"La funzione che incapsula il secondo comportamento\"\"\"\n",
    "#     update.message.reply_text(\"command_2\")\n",
    "#     logging.info('{} {} {}'.format(\"command_2\", bot, update))\n",
    "\n",
    "\n",
    "def welcome(bot, update):\n",
    "    \"\"\"La funzione con cui dare il benvenuto all'utente\"\"\"\n",
    "    nome_utente = update.message.chat.first_name\n",
    "    \n",
    "    logging.info('{} ha avviato una chat'.format(\n",
    "        nome_utente\n",
    "    ))\n",
    "    \n",
    "    msg = \"*Benvenuto, {nome}!*\\nSono pronto per salutarti, parlarti di IPREL Progetti o di Gabriele\".format(\n",
    "        nome=nome_utente\n",
    "    )\n",
    "    \n",
    "    bot.send_message(\n",
    "        chat_id=update.message.chat_id,\n",
    "        text=msg,\n",
    "        parse_mode=ParseMode.MARKDOWN\n",
    "    )\n",
    "\n",
    "def help_me(bot, update):\n",
    "    \"\"\"La funzione con cui spiegare all'utente cosa può fare\"\"\"\n",
    "    nome_utente = update.message.chat.first_name\n",
    "    \n",
    "    logging.info('{} ha chiesto le info di utilizzo'.format(\n",
    "        nome_utente\n",
    "    ))\n",
    "    \n",
    "    msg = modello_linguistico[\"messaggio_aiuto\"]\n",
    "    \n",
    "    bot.send_message(\n",
    "        chat_id=update.message.chat_id,\n",
    "        text=msg,\n",
    "        parse_mode=ParseMode.MARKDOWN\n",
    "    )\n",
    "\n",
    "\n",
    "# def dialog(bot, update):\n",
    "#     \"\"\"La funzione che risponde al linguaggio naturale inserito dall'utente\"\"\"\n",
    "#     update.message.reply_text(\"dialog\")\n",
    "#     logging.info('{} {} {}'.format(\"dialog\", bot, update))\n",
    "\n",
    "\n",
    "# N.B.: il metodo di errore dettaglia anche gli errori verificatisi\n",
    "def error(bot, update, error):\n",
    "    \"\"\"La funzione che gestisce le eventuali situazioni di errore\"\"\"\n",
    "    nome_utente = update.message.chat.first_name\n",
    "    \n",
    "    logging.warning(\"{} ha causato l'errore {}\".format(\n",
    "        nome_utente,\n",
    "        error\n",
    "    ))\n",
    "    \n",
    "    msg = modello_linguistico[\"messaggio_errore\"]\n",
    "    \n",
    "    bot.send_message(\n",
    "        chat_id=update.message.chat_id,\n",
    "        text=msg,\n",
    "        parse_mode=ParseMode.MARKDOWN\n",
    "    )"
   ]
  },
  {
   "cell_type": "markdown",
   "metadata": {},
   "source": [
    "#### 3) Creare il chatbot su Telegram<a name=\"creazione\"></a>"
   ]
  },
  {
   "cell_type": "markdown",
   "metadata": {},
   "source": [
    "La procedura di creazione va effettuata tramite `@BotFather` via app `Telegram`.\n",
    "\n",
    "**Solo lo sviluppatore** dovrà preoccuparsi di questa fase.\n",
    "\n",
    "Si utilizzano i seguenti parametri per la creazione del bot:\n",
    "\n",
    "##### first_name:\n",
    "\n",
    "```\n",
    "imolaprogramma2019\n",
    "```\n",
    "\n",
    "##### username: \n",
    "\n",
    "```\n",
    "imolaprogramma2019_bot\n",
    "```\n",
    "\n",
    "##### comandi:\n",
    "\n",
    "```\n",
    "help - help\n",
    "command_1 - cmd1\n",
    "command_2 - cmd2\n",
    "```\n",
    "\n",
    "Utilizzare il `token` restituito da `@BotFather` per collegare l'istanza del chatbot ai comportamenti programmati via software."
   ]
  },
  {
   "cell_type": "markdown",
   "metadata": {},
   "source": [
    "#### 4) Collegare il chatbot via token<a name=\"collegamento\"></a>"
   ]
  },
  {
   "cell_type": "markdown",
   "metadata": {},
   "source": [
    "Il token viene copiato in chiaro nel sorgente per motivi di tempo e per fini dimostrativi.\n",
    "\n",
    "Sarebbe più opportuno salvare il token come variabile d'ambiente e caricarne il valore trasparentemente.\n",
    "\n",
    "In caso di applicazioni reali è caldamente consigliata l'adozione di adeguate misure di sicurezza."
   ]
  },
  {
   "cell_type": "code",
   "execution_count": 5,
   "metadata": {},
   "outputs": [],
   "source": [
    "from telegram.ext import Updater, CommandHandler, MessageHandler, Filters\n",
    "from telegram import ParseMode"
   ]
  },
  {
   "cell_type": "code",
   "execution_count": 6,
   "metadata": {},
   "outputs": [],
   "source": [
    "TELEGRAM_BOT_TOKEN = '722180203:AAEBCSejdIlWJbUNv0CLsaa3M6FY0Q0SV7U'"
   ]
  },
  {
   "cell_type": "code",
   "execution_count": 7,
   "metadata": {},
   "outputs": [],
   "source": [
    "# Istanziare l'EventHandler del chatbot creato passandogli il codice identificativo.\n",
    "updater = Updater(TELEGRAM_BOT_TOKEN)"
   ]
  },
  {
   "cell_type": "code",
   "execution_count": 8,
   "metadata": {},
   "outputs": [],
   "source": [
    "# Ottenere il dispatcher di eventi.\n",
    "dp = updater.dispatcher"
   ]
  },
  {
   "cell_type": "markdown",
   "metadata": {},
   "source": [
    "#### 5) Effettuare i bindings<a name=\"binding\"></a>"
   ]
  },
  {
   "cell_type": "markdown",
   "metadata": {},
   "source": [
    "L'ultima cosa che resta da fare è associare ogni comando del chatbot ad una delle funzioni precedentemente definite."
   ]
  },
  {
   "cell_type": "code",
   "execution_count": 9,
   "metadata": {},
   "outputs": [],
   "source": [
    "# Associare al dispatcher i comportamenti del chatbot:\n",
    "# # Comandi (risposte a necessità utente)\n",
    "dp.add_handler(CommandHandler(\"start\", welcome))\n",
    "dp.add_handler(CommandHandler(\"help\", help_me))\n",
    "\n",
    "# dp.add_handler(CommandHandler(\"command_1\", command_1))\n",
    "# dp.add_handler(CommandHandler(\"command_2\", command_2))\n",
    "\n",
    "# # Comprensione del linguaggio naturale (dialogo con utente)\n",
    "dp.add_handler(MessageHandler(Filters.text, dialogo_con_utente))\n",
    "\n",
    "# # Errori (notificare errori nell'utilizzo o occorsi)\n",
    "dp.add_error_handler(error)"
   ]
  },
  {
   "cell_type": "markdown",
   "metadata": {},
   "source": [
    "#### 6) Proviamolo insieme!<a name=\"test\"></a>"
   ]
  },
  {
   "cell_type": "markdown",
   "metadata": {},
   "source": [
    "**Lato Python:** avviare e mantenere attivo il chatbot finchè il processo non viene interrotto"
   ]
  },
  {
   "cell_type": "code",
   "execution_count": 10,
   "metadata": {},
   "outputs": [
    {
     "name": "stderr",
     "output_type": "stream",
     "text": [
      "Bot avviato\n",
      "Gabriele ha avviato una chat\n",
      "Gabriele ha salutato\n",
      "Gabriele ha chiesto di Iprel\n",
      "Gabriele ha chiesto di Gabriele\n",
      "Gabriele ha chiesto di Gabriele\n",
      "Gabriele ha chiesto di Gabriele\n",
      "Gabriele ha chiesto qualcosa che non è stato capito: \"chsha\"\n",
      "Gabriele ha chiesto le info di utilizzo\n",
      "Received signal 2 (SIGINT), stopping...\n",
      "Bot spento\n"
     ]
    }
   ],
   "source": [
    "logging.info('Bot avviato')\n",
    "\n",
    "updater.start_polling()\n",
    "updater.idle()\n",
    "\n",
    "logging.info('Bot spento')"
   ]
  },
  {
   "cell_type": "markdown",
   "metadata": {},
   "source": [
    "**Lato Telegram:** aprire l'app, cercare dalla lente di ingrandimento l'utente `imolaprogramma2019` ed avviare una sessione di utilizzo premendo il pulsante `START` in basso.\n",
    "\n",
    "* Il bot accoglierà ogni nuovo utente con il messaggio di `welcome()`\n",
    "* I comandi configurati saranno accessibili dall'apposito tasto `/` di fianco alla chat\n",
    "* L'interazione in linguaggio naturale verrà gestita dalla logica di `dialog()`\n",
    "* Eventuali errori verranno gestiti e notificati dal metodo di `error()`"
   ]
  },
  {
   "cell_type": "code",
   "execution_count": null,
   "metadata": {},
   "outputs": [],
   "source": []
  }
 ],
 "metadata": {
  "kernelspec": {
   "display_name": "imolaprogramma2019",
   "language": "python",
   "name": "imolaprogramma2019"
  },
  "language_info": {
   "codemirror_mode": {
    "name": "ipython",
    "version": 3
   },
   "file_extension": ".py",
   "mimetype": "text/x-python",
   "name": "python",
   "nbconvert_exporter": "python",
   "pygments_lexer": "ipython3",
   "version": "3.6.6"
  }
 },
 "nbformat": 4,
 "nbformat_minor": 2
}
