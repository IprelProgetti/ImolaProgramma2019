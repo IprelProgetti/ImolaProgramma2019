{
 "cells": [
  {
   "cell_type": "markdown",
   "metadata": {},
   "source": [
    "# Imola Programma 2019\n",
    "\n",
    "## E se Babbo Natale esistesse, e fosse un chatbot?\n",
    "\n",
    "* **Speaker:** Gabriele Corni [ Gabriele_Corni@iprel.it ]\n",
    "* **Azienda:** IPREL Progetti S.r.l.\n",
    "* **Data:** 30 marzo 2019\n",
    "* **GitHub repository:** https://github.com/IprelProgetti/ImolaProgramma2019.git\n"
   ]
  },
  {
   "cell_type": "markdown",
   "metadata": {},
   "source": [
    "### <u>Indice</u>\n",
    "\n",
    "#### <i>Pratica: costruiamo (e proviamo) un chatbot Telegram in 5 minuti</i>\n",
    "\n",
    "[1) Configurare il file di log e funzioni di utilità](#log)\n",
    "\n",
    "[2) Definire il comportamento del chatbot](#comportamento)\n",
    "\n",
    "[3) Creare il chatbot su Telegram](#creazione)\n",
    "\n",
    "[4) Collegare il chatbot via token](#collegamento)\n",
    "\n",
    "[5) Effettuare i bindings](#binding)\n",
    "\n",
    "[6) Proviamolo insieme!](#test)\n"
   ]
  },
  {
   "cell_type": "markdown",
   "metadata": {},
   "source": [
    "### Pratica: costruiamo (e proviamo) un chatbot Telegram in 5 minuti"
   ]
  },
  {
   "cell_type": "markdown",
   "metadata": {},
   "source": [
    "#### 1) Configurare il file di log e funzioni di utilità<a name=\"log\"></a>"
   ]
  },
  {
   "cell_type": "markdown",
   "metadata": {},
   "source": [
    "Abbiamo paragonato un chatbot ad un server web. Ebbene, così come accade per gli accessi ad un sito internet, è parimenti importante loggare gli accessi e le richieste al chatbot.\n",
    "\n",
    "Questo si rivelerà utile per rilevare malfunzionamenti, monitorare il traffico e soprattutto per analizzare le abitudini di utilizzo degli utenti:\n",
    "\n",
    "* quali funzioni sono più richieste? \n",
    "* quali non vengono quasi mai invocate? \n",
    "* cosa potrebbe aumentare il valore percepito dagli utenti sulla base del loro utilizzo?\n",
    "* ..."
   ]
  },
  {
   "cell_type": "code",
   "execution_count": null,
   "metadata": {},
   "outputs": [],
   "source": [
    "import logging\n",
    "import random"
   ]
  },
  {
   "cell_type": "code",
   "execution_count": null,
   "metadata": {},
   "outputs": [],
   "source": [
    "logging.basicConfig(\n",
    "    level=logging.DEBUG,\n",
    "    format='[ %(asctime)s ] - -  %(levelname)s: %(name)s - %(message)s',\n",
    "    datefmt='%Y-%m-%d %H:%M:%S',\n",
    "    filename='chatbot.log',\n",
    "    filemode='w'\n",
    ")\n",
    "console = logging.StreamHandler()\n",
    "console.setLevel(logging.INFO)\n",
    "logging.getLogger('').addHandler(console)"
   ]
  },
  {
   "cell_type": "markdown",
   "metadata": {},
   "source": [
    "#### 2) Definire il comportamento del chatbot<a name=\"comportamento\"></a>"
   ]
  },
  {
   "cell_type": "markdown",
   "metadata": {},
   "source": [
    "Il comportamento dei chatbot può essere definito tramite l'implementazione di semplici funzioni.  \n",
    "Ogni metodo può modificare lo stato interno del bot/del suo backend e/o ritornare un messaggio all'utente relativamente all'esito dell'operazione richiesta.\n",
    "\n",
    "Nel caso di chatbot Telegram implementato in Python, i parametri di ingresso sono generalmente due (entrambi dizionari/oggetti json):\n",
    "\n",
    "* `bot`: istanza del bot che risponde\n",
    "    * bot_id\n",
    "    * bot_username\n",
    "    * comandi\n",
    "* `update`: i dettagli dell'evento che l'utente ha scatenato interagendo col bot\n",
    "    * update_id\n",
    "    * message\n",
    "        * message_id\n",
    "        * date\n",
    "        * chat\n",
    "            * id\n",
    "            * type\n",
    "            * username\n",
    "            * first_name\n",
    "            * last_name\n",
    "        * from\n",
    "            * id\n",
    "            * username\n",
    "            * first_name\n",
    "            * last_name\n",
    "            * is_bot\n",
    "            * language_code\n",
    "        * text\n",
    "        * entities\n",
    "        * caption_entities\n",
    "        * photo\n",
    "        * ...\n",
    "        \n"
   ]
  },
  {
   "cell_type": "markdown",
   "metadata": {},
   "source": [
    "###### Modello linguistico\n",
    "\n",
    "Importa e usa qui tutte le tue librerie di NLP più avanzate :)  \n",
    "noi ne simuleremo una super semplice, utile a capire il meccanismo di funzionamento"
   ]
  },
  {
   "cell_type": "code",
   "execution_count": null,
   "metadata": {},
   "outputs": [],
   "source": [
    "modello_linguistico = {\n",
    "    # da ricercare nel testo (modello linguistico \"naive\")\n",
    "    \"interiezioni\"          : [\"ciao\", \"buongiorno\"],\n",
    "    \"parole_chiave_azienda\" : [\"iprel\"],\n",
    "    \n",
    "    # calcolo risposta    \n",
    "    \"info_azienda\" : [\"_IPREL Progetti_ è una società di engineering operante nell'area di controllo del processo in diversi settori produttivi: ceramico, imballaggio, alimentare, chimico e meccanico.\",\n",
    "                      \"L'azienda nasce nel 1995 da una joint venture tra *AEPI Industrie*, azienda leader nello scenario nazionale e mondiale dell'automazione industriale, ed il suo maggiore cliente, *SACMI Imola*.\",\n",
    "                      \"L'azienda è fortemente orientata all'*innovazione tecnologica*, e si adopera per il continuo miglioramento dei processi produttivi, utilizzando le più moderne apparecchiature reperibili sul mercato mondiale.\",\n",
    "                      \"Per tutte le altre info, visita http://www.iprel.it/\\n\"\n",
    "                     ],\n",
    "    \n",
    "    \"messaggio_benvenuto\" : \"Benvenuto a Imola Programma 2019\",\n",
    "    \"messaggio_errore\"    : \"Mi dispiace, non ti ho capito.\\nPotresti ripetere per favore?\\nGrazie\",\n",
    "    \"messaggio_aiuto\"     : \"Chiedimi pure informazioni in linguaggio naturale, o clicca sul pulsante `/` per usufruire dei comandi preimpostati.\",\n",
    "    \"messaggio_funzioni\"  : \"Sono pronto per salutarti e parlarti di IPREL Progetti!\\nSe vuoi, lasciaci `/feedback`!\",\n",
    "    \"messaggio_feedback\"  : \"Vuoi *votare* (1-10), lasciarci un *feedback testuale* o farci una *domanda*?\"\n",
    "}"
   ]
  },
  {
   "cell_type": "markdown",
   "metadata": {},
   "source": [
    "###### Funzioni comportamentali\n",
    "\n",
    "Definisci qui il comportamento del chatbot Telegram."
   ]
  },
  {
   "cell_type": "code",
   "execution_count": null,
   "metadata": {},
   "outputs": [],
   "source": [
    "def welcome(bot, update):\n",
    "    \"\"\"La funzione con cui dare il benvenuto all'utente\"\"\"\n",
    "    nome_utente = update.message.chat.first_name\n",
    "    \n",
    "    logging.info('{} ha avviato una chat'.format(\n",
    "        nome_utente\n",
    "    ))\n",
    "    \n",
    "    msg = \"*Benvenuto, {nome}!*\\n{funzioni}\".format(\n",
    "        nome=nome_utente,\n",
    "        funzioni=modello_linguistico[\"messaggio_funzioni\"]\n",
    "    )\n",
    "    \n",
    "    bot.send_message(\n",
    "        chat_id=update.message.chat_id,\n",
    "        text=msg,\n",
    "        parse_mode=ParseMode.MARKDOWN,\n",
    "        reply_markup=ReplyKeyboardRemove()\n",
    "    )"
   ]
  },
  {
   "cell_type": "code",
   "execution_count": null,
   "metadata": {},
   "outputs": [],
   "source": [
    "def help_me(bot, update):\n",
    "    \"\"\"La funzione con cui spiegare all'utente cosa può fare\"\"\"\n",
    "    nome_utente = update.message.chat.first_name\n",
    "    \n",
    "    logging.info('{} ha chiesto le info di utilizzo'.format(\n",
    "        nome_utente\n",
    "    ))\n",
    "    \n",
    "    msg = modello_linguistico[\"messaggio_aiuto\"]\n",
    "    \n",
    "    bot.send_message(\n",
    "        chat_id=update.message.chat_id,\n",
    "        text=msg,\n",
    "        parse_mode=ParseMode.MARKDOWN,\n",
    "        reply_markup=ReplyKeyboardRemove()\n",
    "    )"
   ]
  },
  {
   "cell_type": "code",
   "execution_count": null,
   "metadata": {},
   "outputs": [],
   "source": [
    "voti = [\"{}\".format(i) for i in range(1, 11)]\n",
    "parere = \"FEEDBACK\"\n",
    "domanda = \"DOMANDA\""
   ]
  },
  {
   "cell_type": "code",
   "execution_count": null,
   "metadata": {},
   "outputs": [],
   "source": [
    "def build_keyboard(buttons, n_cols, header_buttons=None, footer_buttons=None):\n",
    "    \"\"\"La funzione con cui creare una griglia di bottoni per le risposte preimpostate\"\"\"\n",
    "    menu = [buttons[i:i + n_cols] for i in range(0, len(buttons), n_cols)]\n",
    "    if header_buttons:\n",
    "        menu.insert(0, header_buttons)\n",
    "    if footer_buttons:\n",
    "        menu.append(footer_buttons)\n",
    "    return menu"
   ]
  },
  {
   "cell_type": "code",
   "execution_count": null,
   "metadata": {},
   "outputs": [],
   "source": [
    "def feedback(bot, update, user_data):\n",
    "    \"\"\"La funzione con cui consentire all'utente di dare un voto al talk, fare domande o lasciare feedback\"\"\"\n",
    "    nome_utente = update.message.chat.first_name\n",
    "    user_data[\"fbk\"] = True\n",
    "    \n",
    "    logging.info('{} sta lasciando un feedback'.format(\n",
    "        nome_utente\n",
    "    ))\n",
    "    \n",
    "    griglia_voto = build_keyboard(voti, n_cols=5, footer_buttons=[parere, domanda])\n",
    "    msg = modello_linguistico[\"messaggio_feedback\"]\n",
    "    \n",
    "    bot.send_message(\n",
    "        chat_id=update.message.chat_id,\n",
    "        text=msg,\n",
    "        parse_mode=ParseMode.MARKDOWN,\n",
    "        reply_markup=ReplyKeyboardMarkup(griglia_voto)\n",
    "    )"
   ]
  },
  {
   "cell_type": "code",
   "execution_count": null,
   "metadata": {},
   "outputs": [],
   "source": [
    "def error(bot, update, error):\n",
    "    \"\"\"La funzione che gestisce le eventuali situazioni di errore\"\"\"\n",
    "    nome_utente = update.message.chat.first_name\n",
    "    \n",
    "    logging.warning(\"{} ha causato l'errore {}\".format(\n",
    "        nome_utente,\n",
    "        error\n",
    "    ))\n",
    "    \n",
    "    msg = modello_linguistico[\"messaggio_errore\"]\n",
    "    \n",
    "    bot.send_message(\n",
    "        chat_id=update.message.chat_id,\n",
    "        text=msg,\n",
    "        parse_mode=ParseMode.MARKDOWN,\n",
    "        reply_markup=ReplyKeyboardRemove()\n",
    "    )"
   ]
  },
  {
   "cell_type": "code",
   "execution_count": null,
   "metadata": {},
   "outputs": [],
   "source": [
    "def dialogo_con_utente(bot, update, user_data):\n",
    "    def invia_saluto(nome):\n",
    "        logging.info('{} ha salutato'.format(\n",
    "            nome\n",
    "        ))\n",
    "        \n",
    "        messaggio_saluto = \"{saluto} {nome}!\\n{msg}\".format(\n",
    "            saluto=random.choice(modello_linguistico[\"interiezioni\"]),\n",
    "            nome=nome,\n",
    "            msg=modello_linguistico[\"messaggio_benvenuto\"]\n",
    "        )\n",
    "        return invia(messaggio_saluto)\n",
    "    \n",
    "    def invia_info_azienda(nome):\n",
    "        logging.info('{} ha chiesto di Iprel'.format(\n",
    "            nome\n",
    "        ))\n",
    "        \n",
    "        messaggio_azienda = \"\\n\\n\".join(modello_linguistico[\"info_azienda\"])\n",
    "        return invia(messaggio_azienda)\n",
    "    \n",
    "    def invia_risposta_generica(nome, testo):\n",
    "        if user_data[\"fbk\"]:\n",
    "            user_data[\"fbk\"] = False\n",
    "            \n",
    "            log_msg = \"{nome} ha detto: {testo}\".format(\n",
    "                nome=nome,\n",
    "                testo=testo\n",
    "            )\n",
    "            risposta = \"Grazie per aver partecipato, {}!\".format(nome)\n",
    "        \n",
    "        else:\n",
    "            log_msg = '{nome} ha chiesto qualcosa che non è stato capito: \"{testo}\"'.format(\n",
    "                nome=nome,\n",
    "                testo=testo\n",
    "            )\n",
    "            risposta = modello_linguistico[\"messaggio_errore\"]\n",
    "        \n",
    "        logging.info(log_msg)   \n",
    "        messaggio_risposta = risposta\n",
    "        return invia(messaggio_risposta)\n",
    "    \n",
    "    def voto_utente(nome, testo):\n",
    "        logging.info('{nome} ha votato: \"{testo}\"'.format(\n",
    "            nome=nome,\n",
    "            testo=testo\n",
    "        ))\n",
    "            \n",
    "        messaggio_ringraziamento = \"Grazie per aver votato, {}!\".format(nome)\n",
    "        user_data[\"fbk\"] = False\n",
    "        return invia(messaggio_ringraziamento)\n",
    "    \n",
    "    def parere_utente(nome, testo):\n",
    "        logging.info('{nome} sta scrivendo un parere sul talk'.format(\n",
    "            nome=nome\n",
    "        ))\n",
    "            \n",
    "        messaggio_ringraziamento = \"Cosa ti è piaciuto, cosa non hai capito, cosa miglioreresti?\\nIl talk è stato chiaro?\\nIl talk è stato interessante?\"\n",
    "        return invia(messaggio_ringraziamento)\n",
    "    \n",
    "    def domanda_utente(nome, testo):\n",
    "        logging.info('{nome} sta scrivendo una domanda'.format(\n",
    "            nome=nome\n",
    "        ))\n",
    "            \n",
    "        messaggio_ringraziamento = \"Cosa vorresti chiedere?\\nChe curiosità hai?\"\n",
    "        return invia(messaggio_ringraziamento)\n",
    "    \n",
    "    def invia(msg):\n",
    "        bot.send_message(\n",
    "            chat_id=update.message.chat_id,\n",
    "            text=msg,\n",
    "            parse_mode=ParseMode.MARKDOWN,\n",
    "            reply_markup=ReplyKeyboardRemove()\n",
    "        )\n",
    "\n",
    "    nome_utente = update.message.chat.first_name\n",
    "    testo_immesso = update.message.text.lower().strip()\n",
    "    if \"fbk\" not in user_data:\n",
    "        user_data[\"fbk\"] = False\n",
    "        \n",
    "    if any([stringa in testo_immesso for stringa in modello_linguistico[\"interiezioni\"]]) and not user_data[\"fbk\"]:\n",
    "        return invia_saluto(nome_utente)\n",
    "    elif any([stringa in testo_immesso for stringa in modello_linguistico[\"parole_chiave_azienda\"]]) and not user_data[\"fbk\"]:\n",
    "        return invia_info_azienda(nome_utente)\n",
    "    elif testo_immesso in voti:\n",
    "        return voto_utente(nome_utente, testo_immesso)\n",
    "    elif testo_immesso == parere.lower():\n",
    "        return parere_utente(nome_utente, testo_immesso)\n",
    "    elif testo_immesso == domanda.lower():\n",
    "        return domanda_utente(nome_utente, testo_immesso)\n",
    "    else:\n",
    "        return invia_risposta_generica(nome_utente, testo_immesso)"
   ]
  },
  {
   "cell_type": "markdown",
   "metadata": {},
   "source": [
    "#### 3) Creare il chatbot su Telegram<a name=\"creazione\"></a>"
   ]
  },
  {
   "cell_type": "markdown",
   "metadata": {},
   "source": [
    "La procedura di creazione va effettuata tramite [`@BotFather`](https://telegram.me/botfather) via app `Telegram`.\n",
    "\n",
    "**Solo lo sviluppatore** dovrà preoccuparsi di questa fase.\n",
    "\n",
    "Si utilizzano i seguenti parametri per la creazione del bot:\n",
    "\n",
    "##### first_name:\n",
    "\n",
    "```\n",
    "IprelAtImolaProgramma2019\n",
    "```\n",
    "\n",
    "##### username: \n",
    "\n",
    "```\n",
    "IprelAtImolaProgramma2019_bot\n",
    "```\n",
    "\n",
    "##### comandi:\n",
    "\n",
    "```\n",
    "help - chiedimi come usarmi\n",
    "feedback - lascia un tuo parere\n",
    "```\n",
    "\n",
    "Utilizzare il `token` restituito da [`@BotFather`](https://telegram.me/botfather) per collegare l'istanza del chatbot ai comportamenti programmati via software."
   ]
  },
  {
   "cell_type": "markdown",
   "metadata": {},
   "source": [
    "#### 4) Collegare il chatbot via token<a name=\"collegamento\"></a>"
   ]
  },
  {
   "cell_type": "markdown",
   "metadata": {},
   "source": [
    "Il token viene copiato in chiaro nel sorgente per motivi di tempo e per fini dimostrativi.\n",
    "\n",
    "Sarebbe più opportuno salvare il token come variabile d'ambiente e caricarne il valore trasparentemente.\n",
    "\n",
    "In caso di applicazioni reali è caldamente consigliata l'adozione di adeguate misure di sicurezza."
   ]
  },
  {
   "cell_type": "code",
   "execution_count": null,
   "metadata": {},
   "outputs": [],
   "source": [
    "TELEGRAM_BOT_TOKEN = '805021961:AAFoEKHBgQJ4mHAaoQV20qZXeJcsvnQWmwQ'"
   ]
  },
  {
   "cell_type": "code",
   "execution_count": null,
   "metadata": {},
   "outputs": [],
   "source": [
    "from telegram.ext import Updater, CommandHandler, MessageHandler, Filters\n",
    "from telegram import ParseMode, ReplyKeyboardRemove, ReplyKeyboardMarkup"
   ]
  },
  {
   "cell_type": "code",
   "execution_count": null,
   "metadata": {},
   "outputs": [],
   "source": [
    "# Istanziare l'EventHandler del chatbot creato passandogli il codice identificativo.\n",
    "updater = Updater(TELEGRAM_BOT_TOKEN)"
   ]
  },
  {
   "cell_type": "code",
   "execution_count": null,
   "metadata": {},
   "outputs": [],
   "source": [
    "# Ottenere il dispatcher di eventi.\n",
    "dp = updater.dispatcher"
   ]
  },
  {
   "cell_type": "markdown",
   "metadata": {},
   "source": [
    "#### 5) Effettuare i bindings<a name=\"binding\"></a>"
   ]
  },
  {
   "cell_type": "markdown",
   "metadata": {},
   "source": [
    "L'ultima cosa che resta da fare è associare ogni comando del chatbot ad una delle funzioni precedentemente definite."
   ]
  },
  {
   "cell_type": "code",
   "execution_count": null,
   "metadata": {},
   "outputs": [],
   "source": [
    "# Associare al dispatcher i comportamenti del chatbot:\n",
    "# # Comandi (risposte a necessità utente)\n",
    "dp.add_handler(CommandHandler(\"start\", welcome))\n",
    "dp.add_handler(CommandHandler(\"help\", help_me))\n",
    "dp.add_handler(CommandHandler(\"feedback\", feedback, pass_user_data=True))\n",
    "\n",
    "# # Comprensione del linguaggio naturale (dialogo con utente)\n",
    "dp.add_handler(MessageHandler(Filters.text, dialogo_con_utente, pass_user_data=True))\n",
    "\n",
    "# # Errori (notificare errori nell'utilizzo o occorsi)\n",
    "dp.add_error_handler(error)"
   ]
  },
  {
   "cell_type": "markdown",
   "metadata": {},
   "source": [
    "#### 6) Proviamolo insieme!<a name=\"test\"></a>"
   ]
  },
  {
   "cell_type": "markdown",
   "metadata": {},
   "source": [
    "**Lato Python:** avviare e mantenere attivo il chatbot finchè il processo non viene interrotto"
   ]
  },
  {
   "cell_type": "code",
   "execution_count": null,
   "metadata": {},
   "outputs": [],
   "source": [
    "logging.info('Bot avviato')\n",
    "\n",
    "updater.start_polling()\n",
    "updater.idle()\n",
    "\n",
    "logging.info('Bot spento')"
   ]
  },
  {
   "cell_type": "markdown",
   "metadata": {},
   "source": [
    "**Lato Telegram:** aprire l'app, cercare dalla lente di ingrandimento l'utente [`IprelAtImolaProgramma2019`](https://telegram.me/IprelAtImolaProgramma2019_bot) ed avviare una sessione di utilizzo premendo il pulsante `START` in basso.\n",
    "\n",
    "* Il bot accoglierà ogni nuovo utente con il messaggio di `welcome()`\n",
    "* I comandi configurati saranno accessibili dall'apposito tasto `/` di fianco alla chat, e gestiti dagli appositi `CommandHandler`\n",
    "* L'interazione in linguaggio naturale verrà gestita dalla logica di `dialogo_con_utente()`\n",
    "* Eventuali errori verranno gestiti e notificati dal metodo di `error()`"
   ]
  },
  {
   "cell_type": "code",
   "execution_count": null,
   "metadata": {},
   "outputs": [],
   "source": []
  }
 ],
 "metadata": {
  "kernelspec": {
   "display_name": "imolaprogramma2019",
   "language": "python",
   "name": "imolaprogramma2019"
  },
  "language_info": {
   "codemirror_mode": {
    "name": "ipython",
    "version": 3
   },
   "file_extension": ".py",
   "mimetype": "text/x-python",
   "name": "python",
   "nbconvert_exporter": "python",
   "pygments_lexer": "ipython3",
   "version": "3.6.6"
  }
 },
 "nbformat": 4,
 "nbformat_minor": 2
}
