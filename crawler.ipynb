{
 "cells": [
  {
   "cell_type": "code",
   "execution_count": 15,
   "metadata": {},
   "outputs": [],
   "source": [
    "from bs4 import BeautifulSoup\n",
    "from requests import get\n",
    "from unidecode import unidecode\n",
    "import re"
   ]
  },
  {
   "cell_type": "code",
   "execution_count": 2,
   "metadata": {},
   "outputs": [],
   "source": [
    "url = \"http://www.imolaprogramma.it/imola-programma-2018/\""
   ]
  },
  {
   "cell_type": "code",
   "execution_count": 3,
   "metadata": {},
   "outputs": [],
   "source": [
    "response = get(url)\n",
    "soup = BeautifulSoup(response.text, 'html.parser')"
   ]
  },
  {
   "cell_type": "code",
   "execution_count": 46,
   "metadata": {},
   "outputs": [],
   "source": [
    "program = soup.find('div', class_='et_pb_row et_pb_row_15')\n",
    "day1 = program.find('div', class_='et_pb_column et_pb_column_1_2 et_pb_column_39')\n",
    "day2 = program.find('div', class_='et_pb_column et_pb_column_1_2 et_pb_column_40')\n",
    "program = [day1, day2]\n",
    "program = [\n",
    "    [unidecode(x.replace(\"–\", \"-\")) \n",
    "     for x in [day.find('h3').text] + [x.text.strip() for x in day.find_all('p')] \n",
    "     if x] \n",
    "    for day in program]"
   ]
  },
  {
   "cell_type": "code",
   "execution_count": 47,
   "metadata": {},
   "outputs": [
    {
     "name": "stdout",
     "output_type": "stream",
     "text": [
      "Venerdi 16 Marzo\n",
      "14.00 - 14.30 Saluti e apertura\n",
      "Fabio Montefiori - LocalFocus\n",
      "Davide Baroncini - Innovami\n",
      "14:30 - 16:30 SANTERNO INNOVATION VALLEY\n",
      "Roberto Cavina - Iprel Progetti Srl (Machine learning)\n",
      "Claudio Guidi - Italianasoftware (Architetture distribuite a microservizi)\n",
      "Alessandro Cillario - Cubbit (Cloud distributivo)\n",
      "Leandro Rubbini - Exe.it (Data center Green)\n",
      "Valeriano Ballardini - Special Video (Sistemi di visione)\n",
      "Fabio Poli - Antreem (Service design)\n",
      "16:30 - 17:00 Speech Tecnologie per la sicurezza dei lavoratori in trasferta\n",
      "Marco Federzoni - TomTom Telematics\n",
      "17:15 - 17:30 Il primo frutto di Imola Programma: una start up per il sociale\n",
      "Andrea Padovano - Comprendiamo\n",
      "17:30 - 18:30 DALL'INDUSTRY ALL'IMPRESA 4.0\n",
      "Gildo Bosi - Sacmi\n",
      "Matteo Masi - Cisco\n",
      "Davide Dall'Osso - Cefla\n",
      "Luca Cavina - SocialCities\n",
      "Federica Minarelli - FAV\n",
      "Andrea Bortolotti - Network Consulting\n",
      "Maria Seralessandri - Imola Informatica\n",
      "18:30 - 19:30 Data protection: scenario dopo il 25 maggio\n",
      "Filippo Campagnoli - Studi Legali Riuniti\n",
      "Massimo Bertaccini - Cryptolab\n",
      "Andrea Puligheddu - Studio Orlandi & Partners\n",
      "20:00 - 08:00 #Hackamirror\n",
      "L'hackathon che rispecchia il tuo talento\n",
      "Sabato 17 Marzo\n",
      "08:00 Apertura - Premiazione dell' Hackamirror\n",
      "Giuria composta da Antreem, LocalFocus, Innovami, Imola Informatica\n",
      "8:30 - 8:45 \"Glocal\"\n",
      "Claudio Bergamini - Imola Informatica\n",
      "8:45 - 9:45 Protagonisti del proprio futuro:\n",
      "Cefla Finishing Industry 4.0 experience\n",
      "QR Tomb - Paolini Cassiano\n",
      "Andrea Arcangeli - Da Imola a New York passando da...Linux!\n",
      "9:00 - 10:00 BLOCKCHAIN\n",
      "Luca Foschini - Unibo\n",
      "Rebecca Montanari - Unibo\n",
      "10:00 - 11:00 L'innovazione nel mercato del lavoro: persone al centro\n",
      "Christian Gironi - Innovami\n",
      "Marco Gasparri - Aepi\n",
      "Mauro Tozzola - Sacmi\n",
      "Luca Spadoni - Info Easy\n",
      "Luca Cappelletti - Imola Informatica\n",
      "Alberto Tonielli - Arca Tecnologie\n",
      "Fabio Nebbia - Cefla\n",
      "10:45 - 11:15 Speech Tecnologie per lo sviluppo del territorio\n",
      "Gabriele Nanni - Iccrea Bcc Ravennate Forlivese e Imolese\n",
      "Emanuele Tarroni -  Iccrea Bcc Ravennate Forlivese e Imolese\n",
      "11:30 - 12:45 Il successo dell'alternanza scuola-lavoro - Presentazione progetti:\n",
      "Alberghetti - Antreem\n",
      "Progetto Blockchain - Alberghetti - Imola Informatica\n",
      "Monumento Generale Anders - Paolini Cassiano\n",
      "Elettrotecnica Imolese\n",
      "Infoeasy\n",
      "Durante tutta la giornata, e in particolare a partire dalle 11.00, per i ragazzi sara possibile incontrare responsabili Hr.\n",
      "Sempre dalle 11.00 in sala lab saranno esposti i progetti:\n",
      "Premio sport Pirazzini\n",
      "Progetto Insieme nella Rete\n",
      "Cantine del Carmine - Paolini Cassiano\n",
      "12:45 - 13.00 Saluti\n",
      "Eventi collaterali\n",
      "Sabato pomeriggio Coder Dojo (laboratorio innovativo per bambini e ragazzi dai 7 ai 14 anni), Sala corsi Imola Informatica, via cavour 94.\n"
     ]
    }
   ],
   "source": [
    "print(\"\\n\".join([x for day in program for x in day ]))"
   ]
  },
  {
   "cell_type": "code",
   "execution_count": null,
   "metadata": {},
   "outputs": [],
   "source": []
  },
  {
   "cell_type": "code",
   "execution_count": 61,
   "metadata": {},
   "outputs": [],
   "source": [
    "time_regex = r\"(?P<from>\\d{1,2}\\D{1}\\d{2})\\s*-\\s*(?P<to>\\d{1,2}\\D{1}\\d{2})\\s*(?P<title>.*)\""
   ]
  },
  {
   "cell_type": "code",
   "execution_count": 68,
   "metadata": {},
   "outputs": [],
   "source": [
    "speaker_regex = r\"(?P<speaker>.+)\\s*-\\s*(?P<company>[a-zA-Z\\s*]+)(\\((?P<theme>.*[^\\)])\\))?\""
   ]
  },
  {
   "cell_type": "code",
   "execution_count": 69,
   "metadata": {},
   "outputs": [],
   "source": [
    "date_regex = r\"(?P<dayOfWeek>(?P<dayShort>Lun|Mar|Mer|Gio|Ven|Sab|Dom)\\D*)\\s(?P<day>\\d*)\\s(?P<month>(?P<monthShort>Gen|Feb|Mar|Apr|Mag|Giu|Lug|Ago|Set|Ott|Nov|Dic)\\D*)\""
   ]
  },
  {
   "cell_type": "code",
   "execution_count": 70,
   "metadata": {},
   "outputs": [],
   "source": [
    "re_list = [time_regex, speaker_regex]"
   ]
  },
  {
   "cell_type": "code",
   "execution_count": 71,
   "metadata": {},
   "outputs": [
    {
     "name": "stdout",
     "output_type": "stream",
     "text": [
      "None 1\n",
      "<_sre.SRE_Match object; span=(0, 8), match='14.00 - '> 1\n",
      "<_sre.SRE_Match object; span=(0, 29), match='Fabio Montefiori - LocalFocus'> 1\n",
      "<_sre.SRE_Match object; span=(0, 27), match='Davide Baroncini - Innovami'> 1\n",
      "<_sre.SRE_Match object; span=(0, 8), match='14:30 - '> 1\n",
      "<_sre.SRE_Match object; span=(0, 54), match='Roberto Cavina - Iprel Progetti Srl (Machine lear> 1\n",
      "<_sre.SRE_Match object; span=(0, 74), match='Claudio Guidi - Italianasoftware (Architetture di> 1\n",
      "<_sre.SRE_Match object; span=(0, 49), match='Alessandro Cillario - Cubbit (Cloud distributivo)> 1\n",
      "<_sre.SRE_Match object; span=(0, 21), match='Leandro Rubbini - Exe'> 1\n",
      "<_sre.SRE_Match object; span=(0, 57), match='Valeriano Ballardini - Special Video (Sistemi di > 1\n",
      "<_sre.SRE_Match object; span=(0, 37), match='Fabio Poli - Antreem (Service design)'> 1\n",
      "<_sre.SRE_Match object; span=(0, 8), match='16:30 - '> 1\n",
      "<_sre.SRE_Match object; span=(0, 35), match='Marco Federzoni - TomTom Telematics'> 1\n",
      "<_sre.SRE_Match object; span=(0, 8), match='17:15 - '> 1\n",
      "<_sre.SRE_Match object; span=(0, 30), match='Andrea Padovano - Comprendiamo'> 1\n",
      "<_sre.SRE_Match object; span=(0, 8), match='17:30 - '> 1\n",
      "<_sre.SRE_Match object; span=(0, 18), match='Gildo Bosi - Sacmi'> 1\n",
      "<_sre.SRE_Match object; span=(0, 19), match='Matteo Masi - Cisco'> 1\n",
      "<_sre.SRE_Match object; span=(0, 24), match=\"Davide Dall'Osso - Cefla\"> 1\n",
      "<_sre.SRE_Match object; span=(0, 26), match='Luca Cavina - SocialCities'> 1\n",
      "<_sre.SRE_Match object; span=(0, 24), match='Federica Minarelli - FAV'> 1\n",
      "<_sre.SRE_Match object; span=(0, 38), match='Andrea Bortolotti - Network Consulting'> 1\n",
      "<_sre.SRE_Match object; span=(0, 39), match='Maria Seralessandri - Imola Informatica'> 1\n",
      "<_sre.SRE_Match object; span=(0, 8), match='18:30 - '> 1\n",
      "<_sre.SRE_Match object; span=(0, 41), match='Filippo Campagnoli - Studi Legali Riuniti'> 1\n",
      "<_sre.SRE_Match object; span=(0, 30), match='Massimo Bertaccini - Cryptolab'> 1\n",
      "<_sre.SRE_Match object; span=(0, 35), match='Andrea Puligheddu - Studio Orlandi '> 1\n",
      "<_sre.SRE_Match object; span=(0, 8), match='20:00 - '> 1\n",
      "None 0\n",
      "None 1\n",
      "<_sre.SRE_Match object; span=(0, 33), match='08:00 Apertura - Premiazione dell'> 1\n",
      "None 0\n",
      "<_sre.SRE_Match object; span=(0, 20), match='8:30 - 8:45 \"Glocal\"'> 0\n",
      "<_sre.SRE_Match object; span=(0, 37), match='Claudio Bergamini - Imola Informatica'> 1\n",
      "<_sre.SRE_Match object; span=(0, 7), match='8:45 - '> 1\n",
      "None 0\n",
      "<_sre.SRE_Match object; span=(0, 26), match='QR Tomb - Paolini Cassiano'> 1\n",
      "<_sre.SRE_Match object; span=(0, 50), match='Andrea Arcangeli - Da Imola a New York passando d> 1\n",
      "<_sre.SRE_Match object; span=(0, 7), match='9:00 - '> 1\n",
      "<_sre.SRE_Match object; span=(0, 21), match='Luca Foschini - Unibo'> 1\n",
      "<_sre.SRE_Match object; span=(0, 25), match='Rebecca Montanari - Unibo'> 1\n",
      "<_sre.SRE_Match object; span=(0, 8), match='10:00 - '> 1\n",
      "<_sre.SRE_Match object; span=(0, 27), match='Christian Gironi - Innovami'> 1\n",
      "<_sre.SRE_Match object; span=(0, 21), match='Marco Gasparri - Aepi'> 1\n",
      "<_sre.SRE_Match object; span=(0, 21), match='Mauro Tozzola - Sacmi'> 1\n",
      "<_sre.SRE_Match object; span=(0, 24), match='Luca Spadoni - Info Easy'> 1\n",
      "<_sre.SRE_Match object; span=(0, 36), match='Luca Cappelletti - Imola Informatica'> 1\n",
      "<_sre.SRE_Match object; span=(0, 34), match='Alberto Tonielli - Arca Tecnologie'> 1\n",
      "<_sre.SRE_Match object; span=(0, 20), match='Fabio Nebbia - Cefla'> 1\n",
      "<_sre.SRE_Match object; span=(0, 8), match='10:45 - '> 1\n",
      "<_sre.SRE_Match object; span=(0, 57), match='Gabriele Nanni - Iccrea Bcc Ravennate Forlivese e> 1\n",
      "<_sre.SRE_Match object; span=(0, 60), match='Emanuele Tarroni -  Iccrea Bcc Ravennate Forlives> 1\n",
      "<_sre.SRE_Match object; span=(0, 80), match=\"11:30 - 12:45 Il successo dell'alternanza scuola-> 1\n",
      "<_sre.SRE_Match object; span=(0, 21), match='Alberghetti - Antreem'> 1\n",
      "<_sre.SRE_Match object; span=(0, 53), match='Progetto Blockchain - Alberghetti - Imola Informa> 1\n",
      "<_sre.SRE_Match object; span=(0, 44), match='Monumento Generale Anders - Paolini Cassiano'> 1\n",
      "None 0\n",
      "None 1\n",
      "None 0\n",
      "None 1\n",
      "None 0\n",
      "None 1\n",
      "<_sre.SRE_Match object; span=(0, 38), match='Cantine del Carmine - Paolini Cassiano'> 1\n",
      "<_sre.SRE_Match object; span=(0, 8), match='12:45 - '> 1\n",
      "None 0\n"
     ]
    }
   ],
   "source": [
    "pp = {}\n",
    "re_count = 0\n",
    "for day in program:\n",
    "    for event in day:\n",
    "#         r = re.compile(re_list[re_count])\n",
    "        match = re.match(re_list[re_count], event)\n",
    "        if not match:\n",
    "            re_count = (re_count + 1) % len(re_list)\n",
    "            match = re.match(re_list[re_count], event)\n",
    "            #if match:\n",
    "                \n",
    "            #parts = match.groupdict()\n",
    "            \n",
    "            #re_count = (re_count + 1) % len(re_list)\n",
    "        print(match, re_count)"
   ]
  },
  {
   "cell_type": "code",
   "execution_count": null,
   "metadata": {},
   "outputs": [],
   "source": [
    "def format_event(ev_type, ev_dict):\n",
    "    if ev_type == 0: # title\n",
    "        pass\n",
    "    elif ev_type == 1: # time\n",
    "        pass\n",
    "    else: # speaker\n",
    "        pass\n",
    "    "
   ]
  },
  {
   "cell_type": "code",
   "execution_count": 53,
   "metadata": {},
   "outputs": [
    {
     "data": {
      "text/plain": [
       "'(?P<speaker>.+\\\\S)\\\\s*-\\\\s*(?P<company>.+[^\\\\(])(\\\\((?P<theme>.+[^\\\\)])\\\\))'"
      ]
     },
     "execution_count": 53,
     "metadata": {},
     "output_type": "execute_result"
    }
   ],
   "source": [
    "r\"(?P<speaker>.+\\S)\\s*-\\s*(?P<company>.+[^\\(])(\\((?P<theme>.+[^\\)])\\))\""
   ]
  },
  {
   "cell_type": "code",
   "execution_count": 54,
   "metadata": {},
   "outputs": [
    {
     "data": {
      "text/plain": [
       "'\\\\s*(?P<speaker>.+\\\\S)\\\\s*-\\\\s*(?P<company>.+\\\\S)\\\\s*'"
      ]
     },
     "execution_count": 54,
     "metadata": {},
     "output_type": "execute_result"
    }
   ],
   "source": [
    "r\"\\s*(?P<speaker>.+\\S)\\s*-\\s*(?P<company>.+\\S)\\s*\""
   ]
  },
  {
   "cell_type": "code",
   "execution_count": 105,
   "metadata": {},
   "outputs": [],
   "source": [
    "def my_parse(event):\n",
    "    if event.startswith(\"Eventi collaterali\"):\n",
    "        return\n",
    "    \n",
    "    try:  # orario\n",
    "        int(event[0])\n",
    "        orario_parts = parse_orario(event)\n",
    "        print(\"orario\", orario_parts)\n",
    "    except ValueError:  # speaker\n",
    "        is_talk = \"(\" in event\n",
    "        speaker_parts = parse_speaker(event)\n",
    "        print(\"speaker\", len(speaker_parts), is_talk, speaker_parts)"
   ]
  },
  {
   "cell_type": "code",
   "execution_count": 106,
   "metadata": {},
   "outputs": [],
   "source": [
    "def parse_orario(event):\n",
    "    parts = re.split(r\"[-]\",event)\n",
    "    more_parts = parts[1].split()\n",
    "    splitted = [parts[0]] + [more_parts[0]] + [\" \".join(more_parts[1:])]\n",
    "    return [x.strip() for x in splitted]\n",
    "\n",
    "def parse_speaker(event):\n",
    "    topic_present = \"(\" in event\n",
    "    parts = re.split(r\"[-\\(\\)]\",event)\n",
    "    clean_parts = [x.strip() for x in parts if x]\n",
    "    return clean_parts"
   ]
  },
  {
   "cell_type": "code",
   "execution_count": 107,
   "metadata": {},
   "outputs": [
    {
     "name": "stdout",
     "output_type": "stream",
     "text": [
      "Venerdi 16 Marzo\n",
      "orario ['14.00', '14.30', 'Saluti e apertura']\n",
      "speaker 2 False ['Fabio Montefiori', 'LocalFocus']\n",
      "speaker 2 False ['Davide Baroncini', 'Innovami']\n",
      "orario ['14:30', '16:30', 'SANTERNO INNOVATION VALLEY']\n",
      "speaker 3 True ['Roberto Cavina', 'Iprel Progetti Srl', 'Machine learning']\n",
      "speaker 3 True ['Claudio Guidi', 'Italianasoftware', 'Architetture distribuite a microservizi']\n",
      "speaker 3 True ['Alessandro Cillario', 'Cubbit', 'Cloud distributivo']\n",
      "speaker 3 True ['Leandro Rubbini', 'Exe.it', 'Data center Green']\n",
      "speaker 3 True ['Valeriano Ballardini', 'Special Video', 'Sistemi di visione']\n",
      "speaker 3 True ['Fabio Poli', 'Antreem', 'Service design']\n",
      "orario ['16:30', '17:00', 'Speech Tecnologie per la sicurezza dei lavoratori in trasferta']\n",
      "speaker 2 False ['Marco Federzoni', 'TomTom Telematics']\n",
      "orario ['17:15', '17:30', 'Il primo frutto di Imola Programma: una start up per il sociale']\n",
      "speaker 2 False ['Andrea Padovano', 'Comprendiamo']\n",
      "orario ['17:30', '18:30', \"DALL'INDUSTRY ALL'IMPRESA 4.0\"]\n",
      "speaker 2 False ['Gildo Bosi', 'Sacmi']\n",
      "speaker 2 False ['Matteo Masi', 'Cisco']\n",
      "speaker 2 False [\"Davide Dall'Osso\", 'Cefla']\n",
      "speaker 2 False ['Luca Cavina', 'SocialCities']\n",
      "speaker 2 False ['Federica Minarelli', 'FAV']\n",
      "speaker 2 False ['Andrea Bortolotti', 'Network Consulting']\n",
      "speaker 2 False ['Maria Seralessandri', 'Imola Informatica']\n",
      "orario ['18:30', '19:30', 'Data protection: scenario dopo il 25 maggio']\n",
      "speaker 2 False ['Filippo Campagnoli', 'Studi Legali Riuniti']\n",
      "speaker 2 False ['Massimo Bertaccini', 'Cryptolab']\n",
      "speaker 2 False ['Andrea Puligheddu', 'Studio Orlandi & Partners']\n",
      "orario ['20:00', '08:00', '#Hackamirror']\n",
      "speaker 1 False [\"L'hackathon che rispecchia il tuo talento\"]\n",
      "\n",
      "Sabato 17 Marzo\n",
      "orario ['08:00 Apertura', 'Premiazione', \"dell' Hackamirror\"]\n",
      "speaker 1 False ['Giuria composta da Antreem, LocalFocus, Innovami, Imola Informatica']\n",
      "orario ['8:30', '8:45', '\"Glocal\"']\n",
      "speaker 2 False ['Claudio Bergamini', 'Imola Informatica']\n",
      "orario ['8:45', '9:45', 'Protagonisti del proprio futuro:']\n",
      "speaker 1 False ['Cefla Finishing Industry 4.0 experience']\n",
      "speaker 2 False ['QR Tomb', 'Paolini Cassiano']\n",
      "speaker 2 False ['Andrea Arcangeli', 'Da Imola a New York passando da...Linux!']\n",
      "orario ['9:00', '10:00', 'BLOCKCHAIN']\n",
      "speaker 2 False ['Luca Foschini', 'Unibo']\n",
      "speaker 2 False ['Rebecca Montanari', 'Unibo']\n",
      "orario ['10:00', '11:00', \"L'innovazione nel mercato del lavoro: persone al centro\"]\n",
      "speaker 2 False ['Christian Gironi', 'Innovami']\n",
      "speaker 2 False ['Marco Gasparri', 'Aepi']\n",
      "speaker 2 False ['Mauro Tozzola', 'Sacmi']\n",
      "speaker 2 False ['Luca Spadoni', 'Info Easy']\n",
      "speaker 2 False ['Luca Cappelletti', 'Imola Informatica']\n",
      "speaker 2 False ['Alberto Tonielli', 'Arca Tecnologie']\n",
      "speaker 2 False ['Fabio Nebbia', 'Cefla']\n",
      "orario ['10:45', '11:15', 'Speech Tecnologie per lo sviluppo del territorio']\n",
      "speaker 2 False ['Gabriele Nanni', 'Iccrea Bcc Ravennate Forlivese e Imolese']\n",
      "speaker 2 False ['Emanuele Tarroni', 'Iccrea Bcc Ravennate Forlivese e Imolese']\n",
      "orario ['11:30', '12:45', \"Il successo dell'alternanza scuola\"]\n",
      "speaker 2 False ['Alberghetti', 'Antreem']\n",
      "speaker 3 False ['Progetto Blockchain', 'Alberghetti', 'Imola Informatica']\n",
      "speaker 2 False ['Monumento Generale Anders', 'Paolini Cassiano']\n",
      "speaker 1 False ['Elettrotecnica Imolese']\n",
      "speaker 1 False ['Infoeasy']\n",
      "speaker 1 False ['Durante tutta la giornata, e in particolare a partire dalle 11.00, per i ragazzi sara possibile incontrare responsabili Hr.']\n",
      "speaker 1 False ['Sempre dalle 11.00 in sala lab saranno esposti i progetti:']\n",
      "speaker 1 False ['Premio sport Pirazzini']\n",
      "speaker 1 False ['Progetto Insieme nella Rete']\n",
      "speaker 2 False ['Cantine del Carmine', 'Paolini Cassiano']\n",
      "orario ['12:45', '13.00', 'Saluti']\n",
      "\n"
     ]
    }
   ],
   "source": [
    "for day in program:\n",
    "    print(day[0])\n",
    "    for event in day[1:]:\n",
    "        my_parse(event)\n",
    "    print()"
   ]
  },
  {
   "cell_type": "code",
   "execution_count": null,
   "metadata": {},
   "outputs": [],
   "source": []
  }
 ],
 "metadata": {
  "kernelspec": {
   "display_name": "imolaprogramma2019",
   "language": "python",
   "name": "imolaprogramma2019"
  },
  "language_info": {
   "codemirror_mode": {
    "name": "ipython",
    "version": 3
   },
   "file_extension": ".py",
   "mimetype": "text/x-python",
   "name": "python",
   "nbconvert_exporter": "python",
   "pygments_lexer": "ipython3",
   "version": "3.6.6"
  }
 },
 "nbformat": 4,
 "nbformat_minor": 2
}
